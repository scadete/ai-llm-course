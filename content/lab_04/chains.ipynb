{
  "cells": [
    {
      "cell_type": "code",
      "execution_count": null,
      "metadata": {},
      "outputs": [],
      "source": [
        "%pip install openai\n",
        "%pip install --upgrade langchain\n",
        "%pip install langchain-community"
      ]
    },
    {
      "cell_type": "code",
      "execution_count": null,
      "metadata": {
        "colab": {
          "base_uri": "https://localhost:8080/"
        },
        "id": "_fLf9EebGJMO",
        "outputId": "46186765-5e9c-49a7-fd55-f5c9fde9e440"
      },
      "outputs": [],
      "source": [
        "# Setup environment and import required libraries\n",
        "import openai"
      ]
    },
    {
      "cell_type": "code",
      "execution_count": null,
      "metadata": {},
      "outputs": [],
      "source": [
        "%set_env OPENAI_API_KEY=#Your API Key here"
      ]
    },
    {
      "cell_type": "code",
      "execution_count": null,
      "metadata": {},
      "outputs": [],
      "source": [
        "llm_model=\"gpt-3.5-turbo\""
      ]
    },
    {
      "cell_type": "markdown",
      "metadata": {
        "id": "0777NM462L-8"
      },
      "source": [
        "Neste momento já temos o necessário para comunicar com a API da OpenAI.\n",
        "Para avançar, vamos criar uma função auxiliar que irá completar as frases que enivemos nas chamadas:"
      ]
    },
    {
      "cell_type": "code",
      "execution_count": null,
      "metadata": {
        "id": "HadZVTOqubkd"
      },
      "outputs": [],
      "source": [
        "from langchain.chat_models import ChatOpenAI"
      ]
    },
    {
      "cell_type": "code",
      "execution_count": null,
      "metadata": {},
      "outputs": [],
      "source": [
        "# To control the randomness and creativity of the generated\n",
        "# text by an LLM, use temperature = 0.0\n",
        "chat = ChatOpenAI(temperature=0.0, model=llm_model)\n",
        "chat"
      ]
    },
    {
      "cell_type": "markdown",
      "metadata": {},
      "source": [
        "## Prompt\n",
        "Vamos adaptar o caso de uso realizado para classificar o tópico em um atendimento."
      ]
    },
    {
      "cell_type": "code",
      "execution_count": null,
      "metadata": {},
      "outputs": [],
      "source": [
        "from langchain_core.prompts import ChatPromptTemplate"
      ]
    },
    {
      "cell_type": "code",
      "execution_count": null,
      "metadata": {},
      "outputs": [],
      "source": [
        "# Note que as linhas sobre formatação foram intencionalmente\n",
        "# removidas quando comparadas à mensagem original do lab_01\n",
        "\n",
        "system_message = f\"\"\"\n",
        "Você vai receber perguntas de atendimento a clientes. \\\n",
        "Classifique cada pergunta em uma categoria primária \\\n",
        "e uma categoria secundária.\n",
        "\n",
        "Categorias Primárias:\n",
        "1. Hardware\n",
        "2. Software\n",
        "3. Rede e Conectividade\n",
        "4. Segurança\n",
        "5. Suporte e Manutenção\n",
        "\n",
        "Categorias secundárias de 1. Hardware:\n",
        "1.1: Computadores\n",
        "1.2: Periféricos\n",
        "1.3: Componentes Internos\n",
        "\n",
        "Categorias secundárias de 2. Software:\n",
        "2.1: Sistemas Operacionais\n",
        "2.2: Aplicativos\n",
        "2.3: Sistemas Internos\n",
        "\n",
        "Categorias secundárias de 3. Rede e Conectividade:\n",
        "3.1: Internet\n",
        "3.2: Intranet\n",
        "3.3: Telefonia e VoIP\n",
        "\n",
        "Categorias secundárias de 4. Segurança:\n",
        "4.1: Acesso\n",
        "4.2: Segurança de Dados\n",
        "4.3: Segurança Física\n",
        "\n",
        "Categoria secundárias 5. Suporte e Manutenção\n",
        "5.1: Atualizações\n",
        "5.2: Manutenção Preventiva\n",
        "5.3: Reparos\n",
        "\"\"\""
      ]
    },
    {
      "cell_type": "code",
      "execution_count": null,
      "metadata": {},
      "outputs": [],
      "source": [
        "user_input_template = \"Pergunta de atendimento: {input}\""
      ]
    },
    {
      "cell_type": "code",
      "execution_count": null,
      "metadata": {},
      "outputs": [],
      "source": [
        "prompt = ChatPromptTemplate.from_messages([\n",
        "    (\"system\", system_message),\n",
        "    (\"user\", user_input_template)\n",
        "])"
      ]
    },
    {
      "cell_type": "code",
      "execution_count": null,
      "metadata": {},
      "outputs": [],
      "source": [
        "input=\"meu teclado nao está funcionando. eu consigo acessar usando um teclado virtual mas as teclas físicas nao funcionam\""
      ]
    },
    {
      "cell_type": "code",
      "execution_count": null,
      "metadata": {},
      "outputs": [],
      "source": [
        "messages = prompt.format_messages(input=input)"
      ]
    },
    {
      "cell_type": "code",
      "execution_count": null,
      "metadata": {},
      "outputs": [],
      "source": [
        "response = chat(messages)\n",
        "print(response.content)"
      ]
    },
    {
      "cell_type": "code",
      "execution_count": null,
      "metadata": {},
      "outputs": [],
      "source": [
        "from langchain_core.output_parsers import JsonOutputParser\n",
        "from langchain_core.pydantic_v1 import BaseModel, Field"
      ]
    },
    {
      "cell_type": "code",
      "execution_count": null,
      "metadata": {},
      "outputs": [],
      "source": [
        "class ClassExample(BaseModel):\n",
        "    primaria: str = Field(description=\"Categoria Primária\")\n",
        "    secundaria: str = Field(description=\"Categoria Secundária, identificada como subcategoria da primária.\")"
      ]
    },
    {
      "cell_type": "markdown",
      "metadata": {},
      "source": [
        "# Parte 2 - Parser"
      ]
    },
    {
      "cell_type": "code",
      "execution_count": null,
      "metadata": {},
      "outputs": [],
      "source": [
        "output_parser = JsonOutputParser(pydantic_object=ClassExample)"
      ]
    },
    {
      "cell_type": "code",
      "execution_count": null,
      "metadata": {},
      "outputs": [],
      "source": [
        "format_instructions = output_parser.get_format_instructions()\n",
        "print(format_instructions)"
      ]
    },
    {
      "cell_type": "code",
      "execution_count": null,
      "metadata": {},
      "outputs": [],
      "source": [
        "user_input_template_formatted = \"\"\"\\\n",
        "Pergunta de atendimento: {input} \\\n",
        "{format_instructions}\n",
        "\"\"\"\n",
        "\n",
        "prompt = ChatPromptTemplate.from_messages([\n",
        "    (\"system\", system_message),\n",
        "    (\"user\", user_input_template_formatted)\n",
        "])\n",
        "\n",
        "messages = prompt.format_messages(input=user_input, format_instructions=format_instructions)"
      ]
    },
    {
      "cell_type": "code",
      "execution_count": null,
      "metadata": {},
      "outputs": [],
      "source": [
        "print(messages[1].content)"
      ]
    },
    {
      "cell_type": "code",
      "execution_count": null,
      "metadata": {},
      "outputs": [],
      "source": [
        "response = chat(messages)\n",
        "print(response.content)"
      ]
    },
    {
      "cell_type": "code",
      "execution_count": null,
      "metadata": {},
      "outputs": [],
      "source": [
        "output_dict = output_parser.parse(response.content)\n",
        "print(output_dict)"
      ]
    },
    {
      "cell_type": "code",
      "execution_count": null,
      "metadata": {},
      "outputs": [],
      "source": [
        "type(output_dict)"
      ]
    },
    {
      "cell_type": "code",
      "execution_count": null,
      "metadata": {},
      "outputs": [],
      "source": [
        "output_dict.get('primaria')"
      ]
    },
    {
      "cell_type": "markdown",
      "metadata": {},
      "source": [
        "## Chains"
      ]
    },
    {
      "cell_type": "markdown",
      "metadata": {},
      "source": [
        "Um dos pontos mais importantes do Langchain. Permite conectar outros elementos da ferramenta em cadeia para processar o conteúdo.\n",
        "O poder delas é que podem ser executadas sobre várias entradas (inputs).\n",
        "\n",
        "Em nosso exemplo anterior toda a execução pode ser resumida em uma única cadeia de prompt, modelo e transcrição de saída."
      ]
    },
    {
      "cell_type": "code",
      "execution_count": null,
      "metadata": {},
      "outputs": [],
      "source": [
        "chain = prompt | chat | output_parser"
      ]
    },
    {
      "cell_type": "code",
      "execution_count": null,
      "metadata": {},
      "outputs": [],
      "source": [
        "chain.invoke({\n",
        "    \"input\": \"meu teclado nao está funcionando. eu consigo acessar usando um teclado virtual mas as teclas físicas nao funcionam\",\n",
        "    \"format_instructions\": format_instructions\n",
        "})"
      ]
    },
    {
      "cell_type": "code",
      "execution_count": null,
      "metadata": {},
      "outputs": [],
      "source": []
    }
  ],
  "metadata": {
    "colab": {
      "provenance": [],
      "toc_visible": true
    },
    "kernelspec": {
      "display_name": "Python 3",
      "name": "python3"
    },
    "language_info": {
      "codemirror_mode": {
        "name": "ipython",
        "version": 3
      },
      "file_extension": ".py",
      "mimetype": "text/x-python",
      "name": "python",
      "nbconvert_exporter": "python",
      "pygments_lexer": "ipython3",
      "version": "3.11.9"
    }
  },
  "nbformat": 4,
  "nbformat_minor": 0
}
