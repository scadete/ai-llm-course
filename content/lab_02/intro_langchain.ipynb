{
  "cells": [
    {
      "cell_type": "markdown",
      "metadata": {
        "id": "5bTt0jC-0OQW"
      },
      "source": [
        "# LangChain uma Padronização do Trabalho\n",
        "\n",
        "Neste caderno vamos explorar os conceitos iniciais de LLM sob a perspectiva do Langchain. Considerando a experiência anterior em interações diretas em prompts e tratamentos de saída manualmente a partir de API, vejamos como esta biblioteca pode ser útil."
      ]
    },
    {
      "cell_type": "markdown",
      "metadata": {
        "id": "ncRq3qZe1LN2"
      },
      "source": [
        "# Conceitos Básicos"
      ]
    },
    {
      "cell_type": "markdown",
      "metadata": {
        "id": "Wy4LiMPNBIUv"
      },
      "source": [
        "---\n",
        "\n",
        "\n",
        "# Parte 1 - Prompt"
      ]
    },
    {
      "cell_type": "markdown",
      "metadata": {
        "id": "tMy4WmXq1grR"
      },
      "source": [
        "## Preparando o Ambiente\n",
        "\n",
        "Para iniciar um trabalho sobre a API da OpenAI, vamos primeiro importar a biblioteca python da openai. Para facilitar o carregamento seguro da chave de API utilizada, também utilizaremos a biblioteca python-dotenv."
      ]
    },
    {
      "cell_type": "code",
      "execution_count": null,
      "metadata": {},
      "outputs": [],
      "source": [
        "%pip install openai\n",
        "%pip install --upgrade langchain\n",
        "%pip install langchain-community"
      ]
    },
    {
      "cell_type": "code",
      "execution_count": null,
      "metadata": {
        "colab": {
          "base_uri": "https://localhost:8080/"
        },
        "id": "_fLf9EebGJMO",
        "outputId": "46186765-5e9c-49a7-fd55-f5c9fde9e440"
      },
      "outputs": [],
      "source": [
        "# Setup environment and import required libraries\n",
        "import openai"
      ]
    },
    {
      "cell_type": "code",
      "execution_count": null,
      "metadata": {},
      "outputs": [],
      "source": [
        "%set_env OPENAI_API_KEY=#Your API Key here"
      ]
    },
    {
      "cell_type": "code",
      "execution_count": null,
      "metadata": {},
      "outputs": [],
      "source": [
        "llm_model=\"gpt-3.5-turbo\""
      ]
    },
    {
      "cell_type": "markdown",
      "metadata": {
        "id": "0777NM462L-8"
      },
      "source": [
        "Neste momento já temos o necessário para comunicar com a API da OpenAI.\n",
        "Para avançar, vamos criar uma função auxiliar que irá completar as frases que enivemos nas chamadas:"
      ]
    },
    {
      "cell_type": "code",
      "execution_count": null,
      "metadata": {
        "id": "HadZVTOqubkd"
      },
      "outputs": [],
      "source": [
        "from langchain.chat_models import ChatOpenAI"
      ]
    },
    {
      "cell_type": "code",
      "execution_count": null,
      "metadata": {},
      "outputs": [],
      "source": [
        "# To control the randomness and creativity of the generated\n",
        "# text by an LLM, use temperature = 0.0\n",
        "chat = ChatOpenAI(temperature=0.0, model=llm_model)\n",
        "chat"
      ]
    },
    {
      "cell_type": "markdown",
      "metadata": {
        "id": "i4jQa6Ax3DB3"
      },
      "source": [
        "## Modelo de Prompt\n"
      ]
    },
    {
      "cell_type": "code",
      "execution_count": null,
      "metadata": {
        "colab": {
          "base_uri": "https://localhost:8080/"
        },
        "id": "-ar-uDARunxR",
        "outputId": "d2e411e7-160a-4332-f933-725b12cd9fbf"
      },
      "outputs": [],
      "source": [
        "template_string = \"\"\"Traduza o texto \\\n",
        "delimitado entre três aspas simples ``` \\\n",
        "em um estilo que é {style}. \\\n",
        "texto: ```{text}```\n",
        "\"\"\""
      ]
    },
    {
      "cell_type": "code",
      "execution_count": null,
      "metadata": {},
      "outputs": [],
      "source": [
        "from langchain.prompts import ChatPromptTemplate\n",
        "\n",
        "prompt_template = ChatPromptTemplate.from_template(template_string)\n"
      ]
    },
    {
      "cell_type": "code",
      "execution_count": null,
      "metadata": {},
      "outputs": [],
      "source": [
        "prompt_template.messages[0].prompt"
      ]
    },
    {
      "cell_type": "code",
      "execution_count": null,
      "metadata": {},
      "outputs": [],
      "source": [
        "prompt_template.messages[0].prompt.input_variables"
      ]
    },
    {
      "cell_type": "code",
      "execution_count": null,
      "metadata": {},
      "outputs": [],
      "source": [
        "customer_style = \"\"\"Português brasileiro \\\n",
        "em um tom calmo e respeitoso\n",
        "\"\"\""
      ]
    },
    {
      "cell_type": "code",
      "execution_count": null,
      "metadata": {},
      "outputs": [],
      "source": [
        "customer_email = \"\"\"\n",
        "[URGNT//0v3rL0@d]\\\n",
        "S3rv3rs, t3@mw0rk n33d3d!\\\n",
        "D@ !mpress0r@ d0 3$kr!t0 t@ d0wn.\\\n",
        "T0d@ m1nh@ r00t3c0 d3 @cc3$$ 3$t@ b10ckd.\\\n",
        "Pr3c1s0 d3 @ss1st3nc!@ m@x!m@ p/@ s01v3r ess@ br3@k.\\\n",
        "S3 vc c0nhec3 @lgum@ m@nd1ng@ p/@ bur1t@r d3v1c3s 0u h@cks d3 r3d3 pr@ !mpress0r@s, ch3g@ j@!\\\n",
        "C0nt@t0 r@p!d0 é v!t@l. S3m m@!s.hen.\n",
        "\"\"\""
      ]
    },
    {
      "cell_type": "code",
      "execution_count": null,
      "metadata": {},
      "outputs": [],
      "source": [
        "customer_messages = prompt_template.format_messages(\n",
        "                    style=customer_style,\n",
        "                    text=customer_email)"
      ]
    },
    {
      "cell_type": "code",
      "execution_count": null,
      "metadata": {},
      "outputs": [],
      "source": [
        "print(type(customer_messages))\n",
        "print(type(customer_messages[0]))"
      ]
    },
    {
      "cell_type": "code",
      "execution_count": null,
      "metadata": {},
      "outputs": [],
      "source": [
        "print(customer_messages[0])"
      ]
    },
    {
      "cell_type": "code",
      "execution_count": null,
      "metadata": {},
      "outputs": [],
      "source": [
        "# Call the LLM to translate to the style of the customer message\n",
        "customer_response = chat(customer_messages)"
      ]
    },
    {
      "cell_type": "code",
      "execution_count": null,
      "metadata": {},
      "outputs": [],
      "source": [
        "print(customer_response.content)"
      ]
    },
    {
      "cell_type": "code",
      "execution_count": null,
      "metadata": {},
      "outputs": [],
      "source": [
        "service_reply = \"\"\"Olá caro cliente, \\\n",
        "acredito que está tudo estável na rede \\\n",
        "por favor verifique se você está na wifi da empresa \\\n",
        "também tente reiniciar a máquina \\\n",
        "um pouco de fé sempre ajuda \\\n",
        "Boa sorte! Sigo à disposição!\n",
        "\"\"\""
      ]
    },
    {
      "cell_type": "code",
      "execution_count": null,
      "metadata": {},
      "outputs": [],
      "source": [
        "service_style_pirate = \"\"\"\\\n",
        "estilo criptográfico hacker de escrever, com girias e codigo \\\n",
        "\"\"\""
      ]
    },
    {
      "cell_type": "code",
      "execution_count": null,
      "metadata": {},
      "outputs": [],
      "source": [
        "service_messages = prompt_template.format_messages(\n",
        "    style=service_style_pirate,\n",
        "    text=service_reply)\n",
        "\n",
        "print(service_messages[0].content)"
      ]
    },
    {
      "cell_type": "code",
      "execution_count": null,
      "metadata": {},
      "outputs": [],
      "source": [
        "service_response = chat(service_messages)\n",
        "print(service_response.content)"
      ]
    },
    {
      "cell_type": "markdown",
      "metadata": {},
      "source": [
        "## Prompt\n",
        "Vamos adaptar o caso de uso realizado para classificar o tópico em um atendimento."
      ]
    },
    {
      "cell_type": "code",
      "execution_count": null,
      "metadata": {},
      "outputs": [],
      "source": [
        "from langchain_core.prompts import ChatPromptTemplate"
      ]
    },
    {
      "cell_type": "code",
      "execution_count": null,
      "metadata": {},
      "outputs": [],
      "source": [
        "# Note que as linhas sobre formatação foram intencionalmente\n",
        "# removidas quando comparadas à mensagem original do lab_01\n",
        "\n",
        "system_message = f\"\"\"\n",
        "Você vai receber perguntas de atendimento a clientes. \\\n",
        "Classifique cada pergunta em uma categoria primária \\\n",
        "e uma categoria secundária.\n",
        "\n",
        "Categorias Primárias:\n",
        "1. Hardware\n",
        "2. Software\n",
        "3. Rede e Conectividade\n",
        "4. Segurança\n",
        "5. Suporte e Manutenção\n",
        "\n",
        "Categorias secundárias de 1. Hardware:\n",
        "1.1: Computadores\n",
        "1.2: Periféricos\n",
        "1.3: Componentes Internos\n",
        "\n",
        "Categorias secundárias de 2. Software:\n",
        "2.1: Sistemas Operacionais\n",
        "2.2: Aplicativos\n",
        "2.3: Sistemas Internos\n",
        "\n",
        "Categorias secundárias de 3. Rede e Conectividade:\n",
        "3.1: Internet\n",
        "3.2: Intranet\n",
        "3.3: Telefonia e VoIP\n",
        "\n",
        "Categorias secundárias de 4. Segurança:\n",
        "4.1: Acesso\n",
        "4.2: Segurança de Dados\n",
        "4.3: Segurança Física\n",
        "\n",
        "Categoria secundárias 5. Suporte e Manutenção\n",
        "5.1: Atualizações\n",
        "5.2: Manutenção Preventiva\n",
        "5.3: Reparos\n",
        "\"\"\""
      ]
    },
    {
      "cell_type": "code",
      "execution_count": null,
      "metadata": {},
      "outputs": [],
      "source": [
        "user_input_template = \"Pergunta de atendimento: {input}\""
      ]
    },
    {
      "cell_type": "code",
      "execution_count": null,
      "metadata": {},
      "outputs": [],
      "source": [
        "prompt = ChatPromptTemplate.from_messages([\n",
        "    (\"system\", system_message),\n",
        "    (\"user\", user_input_template)\n",
        "])"
      ]
    },
    {
      "cell_type": "code",
      "execution_count": null,
      "metadata": {},
      "outputs": [],
      "source": [
        "input=\"meu teclado nao está funcionando. eu consigo acessar usando um teclado virtual mas as teclas físicas nao funcionam\""
      ]
    },
    {
      "cell_type": "code",
      "execution_count": null,
      "metadata": {},
      "outputs": [],
      "source": [
        "messages = prompt.format_messages(input=input)"
      ]
    },
    {
      "cell_type": "code",
      "execution_count": null,
      "metadata": {},
      "outputs": [],
      "source": [
        "response = chat(messages)\n",
        "print(response.content)"
      ]
    },
    {
      "cell_type": "code",
      "execution_count": null,
      "metadata": {},
      "outputs": [],
      "source": [
        "from langchain_core.output_parsers import JsonOutputParser\n",
        "from langchain_core.pydantic_v1 import BaseModel, Field"
      ]
    },
    {
      "cell_type": "code",
      "execution_count": null,
      "metadata": {},
      "outputs": [],
      "source": [
        "class ClassExample(BaseModel):\n",
        "    primaria: str = Field(description=\"Categoria Primária\")\n",
        "    secundaria: str = Field(description=\"Categoria Secundária, identificada como subcategoria da primária.\")"
      ]
    },
    {
      "cell_type": "markdown",
      "metadata": {},
      "source": [
        "# Parte 2 - Parser"
      ]
    },
    {
      "cell_type": "code",
      "execution_count": null,
      "metadata": {},
      "outputs": [],
      "source": [
        "output_parser = JsonOutputParser(pydantic_object=ClassExample)"
      ]
    },
    {
      "cell_type": "code",
      "execution_count": null,
      "metadata": {},
      "outputs": [],
      "source": [
        "format_instructions = output_parser.get_format_instructions()\n",
        "print(format_instructions)"
      ]
    },
    {
      "cell_type": "code",
      "execution_count": null,
      "metadata": {},
      "outputs": [],
      "source": [
        "user_input_template_formatted = \"\"\"\\\n",
        "Pergunta de atendimento: {input} \\\n",
        "{format_instructions}\n",
        "\"\"\"\n",
        "\n",
        "prompt = ChatPromptTemplate.from_messages([\n",
        "    (\"system\", system_message),\n",
        "    (\"user\", user_input_template_formatted)\n",
        "])\n",
        "\n",
        "messages = prompt.format_messages(input=user_input, format_instructions=format_instructions)"
      ]
    },
    {
      "cell_type": "code",
      "execution_count": null,
      "metadata": {},
      "outputs": [],
      "source": [
        "print(messages[1].content)"
      ]
    },
    {
      "cell_type": "code",
      "execution_count": null,
      "metadata": {},
      "outputs": [],
      "source": [
        "response = chat(messages)\n",
        "print(response.content)"
      ]
    },
    {
      "cell_type": "code",
      "execution_count": null,
      "metadata": {},
      "outputs": [],
      "source": [
        "output_dict = output_parser.parse(response.content)\n",
        "print(output_dict)"
      ]
    },
    {
      "cell_type": "code",
      "execution_count": null,
      "metadata": {},
      "outputs": [],
      "source": [
        "type(output_dict)"
      ]
    },
    {
      "cell_type": "code",
      "execution_count": null,
      "metadata": {},
      "outputs": [],
      "source": [
        "output_dict.get('primaria')"
      ]
    },
    {
      "cell_type": "markdown",
      "metadata": {},
      "source": [
        "## Chains (uma espiadinha)"
      ]
    },
    {
      "cell_type": "markdown",
      "metadata": {},
      "source": [
        "Um dos pontos mais importantes do Langchain. Permite conectar outros elementos da ferramenta em cadeia para processar o conteúdo.\n",
        "O poder delas é que podem ser executadas sobre várias entradas (inputs).\n",
        "\n",
        "Em nosso exemplo anterior toda a execução pode ser resumida em uma única cadeia de prompt, modelo e transcrição de saída."
      ]
    },
    {
      "cell_type": "code",
      "execution_count": null,
      "metadata": {},
      "outputs": [],
      "source": [
        "chain = prompt | chat | output_parser"
      ]
    },
    {
      "cell_type": "code",
      "execution_count": null,
      "metadata": {},
      "outputs": [],
      "source": [
        "chain.invoke({\n",
        "    \"input\": \"meu teclado nao está funcionando. eu consigo acessar usando um teclado virtual mas as teclas físicas nao funcionam\",\n",
        "    \"format_instructions\": format_instructions\n",
        "})"
      ]
    },
    {
      "cell_type": "markdown",
      "metadata": {},
      "source": [
        "Vamos abordar o conceito e diferentes modos de cadeias no lab_04."
      ]
    },
    {
      "cell_type": "markdown",
      "metadata": {},
      "source": []
    }
  ],
  "metadata": {
    "colab": {
      "provenance": [],
      "toc_visible": true
    },
    "kernelspec": {
      "display_name": "Python 3",
      "name": "python3"
    },
    "language_info": {
      "codemirror_mode": {
        "name": "ipython",
        "version": 3
      },
      "file_extension": ".py",
      "mimetype": "text/x-python",
      "name": "python",
      "nbconvert_exporter": "python",
      "pygments_lexer": "ipython3",
      "version": "3.11.9"
    }
  },
  "nbformat": 4,
  "nbformat_minor": 0
}
